{
 "cells": [
  {
   "cell_type": "markdown",
   "id": "7cf673cf-47fe-4e2b-8ba0-89baee630f09",
   "metadata": {},
   "source": [
    "# Downloading the Data"
   ]
  },
  {
   "cell_type": "code",
   "execution_count": 89,
   "id": "d7d830d7-e774-4ef7-845a-33c7cc4fb0d4",
   "metadata": {},
   "outputs": [],
   "source": [
    "import pandas as pd\n",
    "import re\n",
    "import requests\n",
    "\n",
    "from sklearn.feature_extraction import DictVectorizer\n",
    "from sklearn.linear_model import LinearRegression\n",
    "from sklearn.metrics import mean_squared_error\n",
    "from typing import List"
   ]
  },
  {
   "cell_type": "code",
   "execution_count": 90,
   "id": "741813df-9083-48f8-a7bb-c7f5607f1629",
   "metadata": {},
   "outputs": [],
   "source": [
    "dataset_uris = [\"https://nyc-tlc.s3.amazonaws.com/trip+data/fhv_tripdata_2021-01.parquet\",\n",
    "                \"https://nyc-tlc.s3.amazonaws.com/trip+data/fhv_tripdata_2021-02.parquet\"]"
   ]
  },
  {
   "cell_type": "code",
   "execution_count": 91,
   "id": "f25a6743-f8ed-44c4-b4be-6c00ec2b1ed0",
   "metadata": {},
   "outputs": [],
   "source": [
    "filenames = []\n",
    "def download_files(file_list: List) -> None:\n",
    "    for url in file_list:\n",
    "        filename = \"data/\" + url.split(\"/\")[-1]\n",
    "        filenames.append(filename)\n",
    "        body = requests.get(url)\n",
    "        with open(filename, 'wb') as file:\n",
    "            file.write(body.content)\n",
    "\n",
    "download_files(dataset_uris)"
   ]
  },
  {
   "cell_type": "markdown",
   "id": "e217934d-8045-41bc-b274-bcf7efe1e8a0",
   "metadata": {},
   "source": [
    "# Read Datasets"
   ]
  },
  {
   "cell_type": "code",
   "execution_count": 92,
   "id": "90572ab5-5f6a-44f3-89b3-0733fc205b2f",
   "metadata": {},
   "outputs": [],
   "source": [
    "pd.set_option(\"display.precision\", 2)"
   ]
  },
  {
   "cell_type": "code",
   "execution_count": 93,
   "id": "cb5a660b-fc0a-4bb9-b11a-0ddd1e56cab3",
   "metadata": {},
   "outputs": [],
   "source": [
    "jan = pd.read_parquet(filenames[0], columns=[\"pickup_datetime\", \"dropOff_datetime\", \"PUlocationID\", \"DOlocationID\"])\n",
    "feb = pd.read_parquet(filenames[-1], columns=[\"pickup_datetime\", \"dropOff_datetime\", \"PUlocationID\", \"DOlocationID\"])"
   ]
  },
  {
   "cell_type": "markdown",
   "id": "41693461-ae75-4005-a840-018e01db3c69",
   "metadata": {
    "tags": []
   },
   "source": [
    "# QUESTION 1"
   ]
  },
  {
   "cell_type": "code",
   "execution_count": 94,
   "id": "dbf397ae-e456-45b3-92f1-0fb9f2afde78",
   "metadata": {},
   "outputs": [
    {
     "name": "stdout",
     "output_type": "stream",
     "text": [
      "There are 1154112 records on January for this dataset\n"
     ]
    }
   ],
   "source": [
    "print(f\"There are {jan.shape[0]} records on January for this dataset\")"
   ]
  },
  {
   "cell_type": "markdown",
   "id": "ab02a8f8-4c3f-40e0-9ef0-dfe6f09e2c6f",
   "metadata": {},
   "source": [
    "# QUESTION 2"
   ]
  },
  {
   "cell_type": "code",
   "execution_count": 95,
   "id": "5c75b142-102e-42cf-859d-5dc1985bcaf8",
   "metadata": {},
   "outputs": [],
   "source": [
    "jan[\"duration\"] = jan[\"dropOff_datetime\"] - jan[\"pickup_datetime\"]"
   ]
  },
  {
   "cell_type": "code",
   "execution_count": 96,
   "id": "8b6528bc-0de2-4bf4-acff-f503f8c7905d",
   "metadata": {},
   "outputs": [],
   "source": [
    "feb[\"duration\"] = feb[\"dropOff_datetime\"] - feb[\"pickup_datetime\"]"
   ]
  },
  {
   "cell_type": "code",
   "execution_count": 97,
   "id": "6df85e09-1598-4a39-9b70-87c6d8cbb273",
   "metadata": {},
   "outputs": [
    {
     "name": "stdout",
     "output_type": "stream",
     "text": [
      "The mean duration for January is 19.167224083333334\n"
     ]
    }
   ],
   "source": [
    "print(f'The mean duration for January is {jan[\"duration\"].mean().total_seconds()/60}')"
   ]
  },
  {
   "cell_type": "code",
   "execution_count": 98,
   "id": "67fb3dff-e134-4907-8c4d-e2bc3429d9d1",
   "metadata": {},
   "outputs": [],
   "source": [
    "jan[\"duration\"] = jan[\"duration\"].apply(lambda x: x.total_seconds()/60)"
   ]
  },
  {
   "cell_type": "code",
   "execution_count": 99,
   "id": "70a45c7e-eff2-4523-a60f-10cec66a5134",
   "metadata": {},
   "outputs": [],
   "source": [
    "feb[\"duration\"] = feb[\"duration\"].apply(lambda x: x.total_seconds()/60)"
   ]
  },
  {
   "cell_type": "code",
   "execution_count": 100,
   "id": "1657cc15-48aa-4723-a870-8c5474aceb42",
   "metadata": {},
   "outputs": [],
   "source": [
    "jan.drop(columns=[\"pickup_datetime\", \"dropOff_datetime\"], inplace=True)\n",
    "feb.drop(columns=[\"pickup_datetime\", \"dropOff_datetime\"], inplace=True)"
   ]
  },
  {
   "cell_type": "markdown",
   "id": "3637da79-ef91-448b-a09c-e8c08a6c283a",
   "metadata": {},
   "source": [
    "# QUESTION 3"
   ]
  },
  {
   "cell_type": "code",
   "execution_count": 101,
   "id": "9b2a5651-0c21-4412-af6f-2a84aa606edd",
   "metadata": {},
   "outputs": [],
   "source": [
    "query_jan = (jan[\"duration\"] >= 1) & (jan[\"duration\"] <= 60)\n",
    "query_feb = (feb[\"duration\"] >= 1) & (feb[\"duration\"] <= 60)"
   ]
  },
  {
   "cell_type": "code",
   "execution_count": 102,
   "id": "195da2f4-5260-46d6-b033-5d699f7d7103",
   "metadata": {},
   "outputs": [],
   "source": [
    "jan = jan[query_jan]\n",
    "feb = feb[query_feb]"
   ]
  },
  {
   "cell_type": "code",
   "execution_count": 103,
   "id": "74579f29-a367-4d32-a4dd-b7ded3e32c59",
   "metadata": {},
   "outputs": [
    {
     "data": {
      "text/plain": [
       "(1109826, 3)"
      ]
     },
     "execution_count": 103,
     "metadata": {},
     "output_type": "execute_result"
    }
   ],
   "source": [
    "jan.shape"
   ]
  },
  {
   "cell_type": "code",
   "execution_count": 104,
   "id": "c8a2a3d3-ae33-4915-b05b-3dc86322b0d7",
   "metadata": {},
   "outputs": [
    {
     "name": "stdout",
     "output_type": "stream",
     "text": [
      "I drop 44286 records\n"
     ]
    }
   ],
   "source": [
    "print(f\"I drop {1154112-jan.shape[0]} records\")"
   ]
  },
  {
   "cell_type": "code",
   "execution_count": 105,
   "id": "e6ca4189-6f50-4ea6-b57a-e796b6598afd",
   "metadata": {},
   "outputs": [
    {
     "data": {
      "text/plain": [
       "Index(['PUlocationID', 'DOlocationID', 'duration'], dtype='object')"
      ]
     },
     "execution_count": 105,
     "metadata": {},
     "output_type": "execute_result"
    }
   ],
   "source": [
    "jan.columns"
   ]
  },
  {
   "cell_type": "code",
   "execution_count": 106,
   "id": "24901474-c243-4ef5-9961-b505756870d0",
   "metadata": {},
   "outputs": [
    {
     "data": {
      "text/plain": [
       "PUlocationID    848661\n",
       "DOlocationID    134760\n",
       "duration             0\n",
       "dtype: int64"
      ]
     },
     "execution_count": 106,
     "metadata": {},
     "output_type": "execute_result"
    }
   ],
   "source": [
    "jan.isnull().sum()\n",
    "feb.isnull().sum()"
   ]
  },
  {
   "cell_type": "code",
   "execution_count": 107,
   "id": "149faa87-7134-4c4a-95c2-284443d7913f",
   "metadata": {},
   "outputs": [
    {
     "name": "stdout",
     "output_type": "stream",
     "text": [
      "83.53% of missing values\n"
     ]
    }
   ],
   "source": [
    "print(f'{(jan[\"PUlocationID\"].isnull().sum() / jan.shape[0])*100:.2f}% of missing values')"
   ]
  },
  {
   "cell_type": "code",
   "execution_count": 108,
   "id": "9e8defc0-275a-4f70-bab5-67860c53c6e6",
   "metadata": {},
   "outputs": [],
   "source": [
    "jan.fillna(\"-1\", inplace=True)\n",
    "feb.fillna(\"-1\", inplace=True)"
   ]
  },
  {
   "cell_type": "code",
   "execution_count": 109,
   "id": "1f7e58ed-41b1-426d-a1c1-b2be1357f40b",
   "metadata": {},
   "outputs": [
    {
     "name": "stdout",
     "output_type": "stream",
     "text": [
      "83.53% of missing values\n"
     ]
    }
   ],
   "source": [
    "print(f'{(jan[jan[\"PUlocationID\"] == \"-1\"][\"PUlocationID\"].count() / jan.shape[0])*100:.2f}% of missing values')"
   ]
  },
  {
   "cell_type": "markdown",
   "id": "e23f4d96-fd92-4c86-b7d1-ffe1e858f66a",
   "metadata": {},
   "source": [
    "# QUESTION 4 - OHE"
   ]
  },
  {
   "cell_type": "code",
   "execution_count": 110,
   "id": "ea847af2-47ac-4e37-8c0d-be9e52339229",
   "metadata": {},
   "outputs": [],
   "source": [
    "categorical = [\"PUlocationID\", \"DOlocationID\"]"
   ]
  },
  {
   "cell_type": "code",
   "execution_count": 111,
   "id": "dff15aaa-2683-4ef0-93de-1bcc67347200",
   "metadata": {},
   "outputs": [],
   "source": [
    "jan[categorical] = jan[categorical].astype(\"str\")"
   ]
  },
  {
   "cell_type": "code",
   "execution_count": 112,
   "id": "991e4681-36e7-4eeb-b0ff-cb95739f5dab",
   "metadata": {},
   "outputs": [
    {
     "data": {
      "text/plain": [
       "PUlocationID     object\n",
       "DOlocationID     object\n",
       "duration        float64\n",
       "dtype: object"
      ]
     },
     "execution_count": 112,
     "metadata": {},
     "output_type": "execute_result"
    }
   ],
   "source": [
    "jan.dtypes"
   ]
  },
  {
   "cell_type": "code",
   "execution_count": 113,
   "id": "abfdba0b-5713-457f-a6f8-fa9626397c2b",
   "metadata": {},
   "outputs": [],
   "source": [
    "train_dicts = jan[categorical].to_dict(orient=\"records\")"
   ]
  },
  {
   "cell_type": "code",
   "execution_count": 114,
   "id": "4f68e960-3fec-4fbf-81f5-95c993450a2b",
   "metadata": {},
   "outputs": [],
   "source": [
    "dv = DictVectorizer()"
   ]
  },
  {
   "cell_type": "code",
   "execution_count": 115,
   "id": "9e460a31-7ecd-4325-83f5-29a3058419e6",
   "metadata": {},
   "outputs": [],
   "source": [
    "# fit_transform to train data\n",
    "X_train = dv.fit_transform(train_dicts)"
   ]
  },
  {
   "cell_type": "code",
   "execution_count": 116,
   "id": "942cdb38-238b-4473-8313-dd323155bf2c",
   "metadata": {},
   "outputs": [
    {
     "name": "stdout",
     "output_type": "stream",
     "text": [
      "There are 525 feature matrix\n"
     ]
    }
   ],
   "source": [
    "print(f\"There are {len(dv.get_feature_names())} feature matrix\")"
   ]
  },
  {
   "cell_type": "markdown",
   "id": "b420510f-ea29-4013-84b4-4b836fa57acd",
   "metadata": {},
   "source": [
    "# QUESTION 5"
   ]
  },
  {
   "cell_type": "code",
   "execution_count": 117,
   "id": "42b07118-ca39-4710-b2ce-a2cc5e1efbc7",
   "metadata": {},
   "outputs": [],
   "source": [
    "y_train = jan[\"duration\"]"
   ]
  },
  {
   "cell_type": "code",
   "execution_count": 118,
   "id": "06882ac3-981f-41d4-b71f-c93b08a55d52",
   "metadata": {},
   "outputs": [
    {
     "data": {
      "text/plain": [
       "10.5285191072072"
      ]
     },
     "execution_count": 118,
     "metadata": {},
     "output_type": "execute_result"
    }
   ],
   "source": [
    "model = LinearRegression()\n",
    "model.fit(X_train, y_train)\n",
    "\n",
    "y_pred = model.predict(X_train)\n",
    "\n",
    "mean_squared_error(y_train, y_pred, squared=False)"
   ]
  },
  {
   "cell_type": "markdown",
   "id": "8aec500f-7111-4751-913e-c64e02ea4354",
   "metadata": {},
   "source": [
    "# QUESTION 6"
   ]
  },
  {
   "cell_type": "code",
   "execution_count": 119,
   "id": "d7d72e33-26f9-4476-8ab9-c522d7e8732f",
   "metadata": {},
   "outputs": [
    {
     "data": {
      "text/plain": [
       "11.014283163400654"
      ]
     },
     "execution_count": 119,
     "metadata": {},
     "output_type": "execute_result"
    }
   ],
   "source": [
    "feb[categorical] = feb[categorical].astype(\"str\")\n",
    "val_dicts = feb[categorical].to_dict(orient='records')\n",
    "# transform to validate data\n",
    "X_val = dv.transform(val_dicts)\n",
    "\n",
    "target = 'duration'\n",
    "y_val = feb[target].values\n",
    "\n",
    "model = LinearRegression()\n",
    "model.fit(X_train, y_train)\n",
    "\n",
    "y_pred = model.predict(X_val)\n",
    "\n",
    "mean_squared_error(y_val, y_pred, squared=False)"
   ]
  },
  {
   "cell_type": "code",
   "execution_count": null,
   "id": "b28420b5-ea05-47ca-bdec-9d130dcff834",
   "metadata": {},
   "outputs": [],
   "source": []
  }
 ],
 "metadata": {
  "kernelspec": {
   "display_name": "Python 3 (ipykernel)",
   "language": "python",
   "name": "python3"
  },
  "language_info": {
   "codemirror_mode": {
    "name": "ipython",
    "version": 3
   },
   "file_extension": ".py",
   "mimetype": "text/x-python",
   "name": "python",
   "nbconvert_exporter": "python",
   "pygments_lexer": "ipython3",
   "version": "3.9.7"
  }
 },
 "nbformat": 4,
 "nbformat_minor": 5
}
