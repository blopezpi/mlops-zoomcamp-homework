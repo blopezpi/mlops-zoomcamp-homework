{
 "cells": [
  {
   "cell_type": "markdown",
   "id": "7cf673cf-47fe-4e2b-8ba0-89baee630f09",
   "metadata": {},
   "source": [
    "# Downloading the Data"
   ]
  },
  {
   "cell_type": "code",
   "execution_count": 141,
   "id": "d7d830d7-e774-4ef7-845a-33c7cc4fb0d4",
   "metadata": {},
   "outputs": [],
   "source": [
    "import requests\n",
    "from typing import List"
   ]
  },
  {
   "cell_type": "code",
   "execution_count": 142,
   "id": "741813df-9083-48f8-a7bb-c7f5607f1629",
   "metadata": {},
   "outputs": [],
   "source": [
    "dataset_uris = [\"https://nyc-tlc.s3.amazonaws.com/trip+data/fhv_tripdata_2021-01.parquet\",\n",
    "                \"https://nyc-tlc.s3.amazonaws.com/trip+data/fhv_tripdata_2021-02.parquet\"]"
   ]
  },
  {
   "cell_type": "code",
   "execution_count": 143,
   "id": "f25a6743-f8ed-44c4-b4be-6c00ec2b1ed0",
   "metadata": {},
   "outputs": [],
   "source": [
    "filenames = []\n",
    "def download_files(file_list: List) -> None:\n",
    "    for url in file_list:\n",
    "        filename = \"data/\" + url.split(\"/\")[-1]\n",
    "        filenames.append(filename)\n",
    "        body = requests.get(url)\n",
    "        with open(filename, 'wb') as file:\n",
    "            file.write(body.content)\n",
    "\n",
    "download_files(dataset_uris)"
   ]
  },
  {
   "cell_type": "markdown",
   "id": "e217934d-8045-41bc-b274-bcf7efe1e8a0",
   "metadata": {},
   "source": [
    "# Read Datasets"
   ]
  },
  {
   "cell_type": "code",
   "execution_count": 16,
   "id": "869a1ca6-0223-47fb-a249-1b900c30e0e5",
   "metadata": {},
   "outputs": [
    {
     "name": "stdout",
     "output_type": "stream",
     "text": [
      "Collecting pyarrow\n",
      "  Using cached pyarrow-8.0.0-cp39-cp39-manylinux_2_17_x86_64.manylinux2014_x86_64.whl (29.4 MB)\n",
      "Collecting fastparquet\n",
      "  Downloading fastparquet-0.8.1-cp39-cp39-manylinux_2_17_x86_64.manylinux2014_x86_64.whl (1.6 MB)\n",
      "\u001b[K     |████████████████████████████████| 1.6 MB 7.8 MB/s eta 0:00:01\n",
      "\u001b[?25hRequirement already satisfied: numpy>=1.16.6 in /home/borja.lopez/miniconda3/envs/core/lib/python3.9/site-packages (from pyarrow) (1.21.2)\n",
      "Collecting fsspec\n",
      "  Using cached fsspec-2022.3.0-py3-none-any.whl (136 kB)\n",
      "Collecting cramjam>=2.3.0\n",
      "  Downloading cramjam-2.5.0-cp39-cp39-manylinux_2_5_x86_64.manylinux1_x86_64.whl (1.6 MB)\n",
      "\u001b[K     |████████████████████████████████| 1.6 MB 30.1 MB/s eta 0:00:01\n",
      "\u001b[?25hRequirement already satisfied: pandas>=1.1.0 in /home/borja.lopez/miniconda3/envs/core/lib/python3.9/site-packages (from fastparquet) (1.4.1)\n",
      "Requirement already satisfied: python-dateutil>=2.8.1 in /home/borja.lopez/miniconda3/envs/core/lib/python3.9/site-packages (from pandas>=1.1.0->fastparquet) (2.8.2)\n",
      "Requirement already satisfied: pytz>=2020.1 in /home/borja.lopez/miniconda3/envs/core/lib/python3.9/site-packages (from pandas>=1.1.0->fastparquet) (2021.3)\n",
      "Requirement already satisfied: six>=1.5 in /home/borja.lopez/miniconda3/envs/core/lib/python3.9/site-packages (from python-dateutil>=2.8.1->pandas>=1.1.0->fastparquet) (1.16.0)\n",
      "Installing collected packages: fsspec, cramjam, pyarrow, fastparquet\n",
      "Successfully installed cramjam-2.5.0 fastparquet-0.8.1 fsspec-2022.3.0 pyarrow-8.0.0\n"
     ]
    }
   ],
   "source": [
    "!pip install pyarrow fastparquet"
   ]
  },
  {
   "cell_type": "code",
   "execution_count": 144,
   "id": "49c1e91b-9ddf-4220-a79d-9607eb337da6",
   "metadata": {},
   "outputs": [],
   "source": [
    "import pandas as pd\n",
    "import re"
   ]
  },
  {
   "cell_type": "code",
   "execution_count": 145,
   "id": "90572ab5-5f6a-44f3-89b3-0733fc205b2f",
   "metadata": {},
   "outputs": [],
   "source": [
    "pd.set_option(\"display.precision\", 2)"
   ]
  },
  {
   "cell_type": "code",
   "execution_count": 146,
   "id": "cb5a660b-fc0a-4bb9-b11a-0ddd1e56cab3",
   "metadata": {},
   "outputs": [
    {
     "data": {
      "text/plain": [
       "(1154112, 7)"
      ]
     },
     "metadata": {},
     "output_type": "display_data"
    },
    {
     "data": {
      "text/html": [
       "<div>\n",
       "<style scoped>\n",
       "    .dataframe tbody tr th:only-of-type {\n",
       "        vertical-align: middle;\n",
       "    }\n",
       "\n",
       "    .dataframe tbody tr th {\n",
       "        vertical-align: top;\n",
       "    }\n",
       "\n",
       "    .dataframe thead th {\n",
       "        text-align: right;\n",
       "    }\n",
       "</style>\n",
       "<table border=\"1\" class=\"dataframe\">\n",
       "  <thead>\n",
       "    <tr style=\"text-align: right;\">\n",
       "      <th></th>\n",
       "      <th>dispatching_base_num</th>\n",
       "      <th>pickup_datetime</th>\n",
       "      <th>dropOff_datetime</th>\n",
       "      <th>PUlocationID</th>\n",
       "      <th>DOlocationID</th>\n",
       "      <th>SR_Flag</th>\n",
       "      <th>Affiliated_base_number</th>\n",
       "    </tr>\n",
       "  </thead>\n",
       "  <tbody>\n",
       "    <tr>\n",
       "      <th>0</th>\n",
       "      <td>B00009</td>\n",
       "      <td>2021-01-01 00:27:00</td>\n",
       "      <td>2021-01-01 00:44:00</td>\n",
       "      <td>NaN</td>\n",
       "      <td>NaN</td>\n",
       "      <td>None</td>\n",
       "      <td>B00009</td>\n",
       "    </tr>\n",
       "    <tr>\n",
       "      <th>1</th>\n",
       "      <td>B00009</td>\n",
       "      <td>2021-01-01 00:50:00</td>\n",
       "      <td>2021-01-01 01:07:00</td>\n",
       "      <td>NaN</td>\n",
       "      <td>NaN</td>\n",
       "      <td>None</td>\n",
       "      <td>B00009</td>\n",
       "    </tr>\n",
       "    <tr>\n",
       "      <th>2</th>\n",
       "      <td>B00013</td>\n",
       "      <td>2021-01-01 00:01:00</td>\n",
       "      <td>2021-01-01 01:51:00</td>\n",
       "      <td>NaN</td>\n",
       "      <td>NaN</td>\n",
       "      <td>None</td>\n",
       "      <td>B00013</td>\n",
       "    </tr>\n",
       "    <tr>\n",
       "      <th>3</th>\n",
       "      <td>B00037</td>\n",
       "      <td>2021-01-01 00:13:09</td>\n",
       "      <td>2021-01-01 00:21:26</td>\n",
       "      <td>NaN</td>\n",
       "      <td>72.0</td>\n",
       "      <td>None</td>\n",
       "      <td>B00037</td>\n",
       "    </tr>\n",
       "    <tr>\n",
       "      <th>4</th>\n",
       "      <td>B00037</td>\n",
       "      <td>2021-01-01 00:38:31</td>\n",
       "      <td>2021-01-01 00:53:44</td>\n",
       "      <td>NaN</td>\n",
       "      <td>61.0</td>\n",
       "      <td>None</td>\n",
       "      <td>B00037</td>\n",
       "    </tr>\n",
       "  </tbody>\n",
       "</table>\n",
       "</div>"
      ],
      "text/plain": [
       "  dispatching_base_num     pickup_datetime    dropOff_datetime  PUlocationID  \\\n",
       "0               B00009 2021-01-01 00:27:00 2021-01-01 00:44:00           NaN   \n",
       "1               B00009 2021-01-01 00:50:00 2021-01-01 01:07:00           NaN   \n",
       "2               B00013 2021-01-01 00:01:00 2021-01-01 01:51:00           NaN   \n",
       "3               B00037 2021-01-01 00:13:09 2021-01-01 00:21:26           NaN   \n",
       "4               B00037 2021-01-01 00:38:31 2021-01-01 00:53:44           NaN   \n",
       "\n",
       "   DOlocationID SR_Flag Affiliated_base_number  \n",
       "0           NaN    None                 B00009  \n",
       "1           NaN    None                 B00009  \n",
       "2           NaN    None                 B00013  \n",
       "3          72.0    None                 B00037  \n",
       "4          61.0    None                 B00037  "
      ]
     },
     "metadata": {},
     "output_type": "display_data"
    },
    {
     "data": {
      "text/plain": [
       "(1037692, 7)"
      ]
     },
     "metadata": {},
     "output_type": "display_data"
    },
    {
     "data": {
      "text/html": [
       "<div>\n",
       "<style scoped>\n",
       "    .dataframe tbody tr th:only-of-type {\n",
       "        vertical-align: middle;\n",
       "    }\n",
       "\n",
       "    .dataframe tbody tr th {\n",
       "        vertical-align: top;\n",
       "    }\n",
       "\n",
       "    .dataframe thead th {\n",
       "        text-align: right;\n",
       "    }\n",
       "</style>\n",
       "<table border=\"1\" class=\"dataframe\">\n",
       "  <thead>\n",
       "    <tr style=\"text-align: right;\">\n",
       "      <th></th>\n",
       "      <th>dispatching_base_num</th>\n",
       "      <th>pickup_datetime</th>\n",
       "      <th>dropOff_datetime</th>\n",
       "      <th>PUlocationID</th>\n",
       "      <th>DOlocationID</th>\n",
       "      <th>SR_Flag</th>\n",
       "      <th>Affiliated_base_number</th>\n",
       "    </tr>\n",
       "  </thead>\n",
       "  <tbody>\n",
       "    <tr>\n",
       "      <th>0</th>\n",
       "      <td>B00013</td>\n",
       "      <td>2021-02-01 00:01:00</td>\n",
       "      <td>2021-02-01 01:33:00</td>\n",
       "      <td>NaN</td>\n",
       "      <td>NaN</td>\n",
       "      <td>None</td>\n",
       "      <td>B00014</td>\n",
       "    </tr>\n",
       "    <tr>\n",
       "      <th>1</th>\n",
       "      <td>B00021</td>\n",
       "      <td>2021-02-01 00:55:40</td>\n",
       "      <td>2021-02-01 01:06:20</td>\n",
       "      <td>173.0</td>\n",
       "      <td>82.0</td>\n",
       "      <td>None</td>\n",
       "      <td>B00021</td>\n",
       "    </tr>\n",
       "    <tr>\n",
       "      <th>2</th>\n",
       "      <td>B00021</td>\n",
       "      <td>2021-02-01 00:14:03</td>\n",
       "      <td>2021-02-01 00:28:37</td>\n",
       "      <td>173.0</td>\n",
       "      <td>56.0</td>\n",
       "      <td>None</td>\n",
       "      <td>B00021</td>\n",
       "    </tr>\n",
       "    <tr>\n",
       "      <th>3</th>\n",
       "      <td>B00021</td>\n",
       "      <td>2021-02-01 00:27:48</td>\n",
       "      <td>2021-02-01 00:35:45</td>\n",
       "      <td>82.0</td>\n",
       "      <td>129.0</td>\n",
       "      <td>None</td>\n",
       "      <td>B00021</td>\n",
       "    </tr>\n",
       "    <tr>\n",
       "      <th>4</th>\n",
       "      <td>B00037</td>\n",
       "      <td>2021-02-01 00:12:50</td>\n",
       "      <td>2021-02-01 00:26:38</td>\n",
       "      <td>NaN</td>\n",
       "      <td>225.0</td>\n",
       "      <td>None</td>\n",
       "      <td>B00037</td>\n",
       "    </tr>\n",
       "  </tbody>\n",
       "</table>\n",
       "</div>"
      ],
      "text/plain": [
       "  dispatching_base_num     pickup_datetime    dropOff_datetime  PUlocationID  \\\n",
       "0               B00013 2021-02-01 00:01:00 2021-02-01 01:33:00           NaN   \n",
       "1      B00021          2021-02-01 00:55:40 2021-02-01 01:06:20         173.0   \n",
       "2      B00021          2021-02-01 00:14:03 2021-02-01 00:28:37         173.0   \n",
       "3      B00021          2021-02-01 00:27:48 2021-02-01 00:35:45          82.0   \n",
       "4               B00037 2021-02-01 00:12:50 2021-02-01 00:26:38           NaN   \n",
       "\n",
       "   DOlocationID SR_Flag Affiliated_base_number  \n",
       "0           NaN    None                 B00014  \n",
       "1          82.0    None        B00021           \n",
       "2          56.0    None        B00021           \n",
       "3         129.0    None        B00021           \n",
       "4         225.0    None                 B00037  "
      ]
     },
     "metadata": {},
     "output_type": "display_data"
    }
   ],
   "source": [
    "for file in filenames:\n",
    "    df = pd.read_parquet(file)\n",
    "    display(df.shape)\n",
    "    display(df.head())\n",
    "    file = re.sub(\".*(tripdata)_(\\d{4}-\\d{2}).parquet$\", r\"data/\\1_\\2.csv\", file)\n",
    "    df.to_csv(file, index=0)"
   ]
  },
  {
   "cell_type": "code",
   "execution_count": 147,
   "id": "687ce9a7-9e43-4db9-9a9c-83a135e4c3a9",
   "metadata": {},
   "outputs": [],
   "source": [
    "jan = pd.read_csv(\"data/tripdata_2021-01.csv\", parse_dates=[\"pickup_datetime\", \"dropOff_datetime\"])\n",
    "feb = pd.read_csv(\"data/tripdata_2021-02.csv\", parse_dates=[\"pickup_datetime\", \"dropOff_datetime\"])"
   ]
  },
  {
   "cell_type": "markdown",
   "id": "41693461-ae75-4005-a840-018e01db3c69",
   "metadata": {
    "tags": []
   },
   "source": [
    "# QUESTION 1"
   ]
  },
  {
   "cell_type": "code",
   "execution_count": 148,
   "id": "dbf397ae-e456-45b3-92f1-0fb9f2afde78",
   "metadata": {},
   "outputs": [
    {
     "name": "stdout",
     "output_type": "stream",
     "text": [
      "There are 1154112 records on January for this dataset\n"
     ]
    }
   ],
   "source": [
    "print(f\"There are {jan.shape[0]} records on January for this dataset\")"
   ]
  },
  {
   "cell_type": "markdown",
   "id": "ab02a8f8-4c3f-40e0-9ef0-dfe6f09e2c6f",
   "metadata": {},
   "source": [
    "# QUESTION 2"
   ]
  },
  {
   "cell_type": "code",
   "execution_count": 149,
   "id": "5c75b142-102e-42cf-859d-5dc1985bcaf8",
   "metadata": {},
   "outputs": [],
   "source": [
    "jan[\"duration\"] = jan[\"dropOff_datetime\"] - jan[\"pickup_datetime\"]"
   ]
  },
  {
   "cell_type": "code",
   "execution_count": 150,
   "id": "8b6528bc-0de2-4bf4-acff-f503f8c7905d",
   "metadata": {},
   "outputs": [],
   "source": [
    "feb[\"duration\"] = feb[\"dropOff_datetime\"] - feb[\"pickup_datetime\"]"
   ]
  },
  {
   "cell_type": "code",
   "execution_count": 151,
   "id": "6df85e09-1598-4a39-9b70-87c6d8cbb273",
   "metadata": {},
   "outputs": [
    {
     "name": "stdout",
     "output_type": "stream",
     "text": [
      "The mean duration for January is 19.167224083333334\n"
     ]
    }
   ],
   "source": [
    "print(f'The mean duration for January is {jan[\"duration\"].mean().total_seconds()/60}')"
   ]
  },
  {
   "cell_type": "code",
   "execution_count": 152,
   "id": "67fb3dff-e134-4907-8c4d-e2bc3429d9d1",
   "metadata": {},
   "outputs": [],
   "source": [
    "jan[\"duration\"] = jan[\"duration\"].apply(lambda x: x.total_seconds()/60)"
   ]
  },
  {
   "cell_type": "code",
   "execution_count": 153,
   "id": "70a45c7e-eff2-4523-a60f-10cec66a5134",
   "metadata": {},
   "outputs": [],
   "source": [
    "feb[\"duration\"] = feb[\"duration\"].apply(lambda x: x.total_seconds()/60)"
   ]
  },
  {
   "cell_type": "markdown",
   "id": "3637da79-ef91-448b-a09c-e8c08a6c283a",
   "metadata": {},
   "source": [
    "# QUESTION 3"
   ]
  },
  {
   "cell_type": "code",
   "execution_count": 154,
   "id": "9b2a5651-0c21-4412-af6f-2a84aa606edd",
   "metadata": {},
   "outputs": [],
   "source": [
    "query_jan = (jan[\"duration\"] > 1) & (jan[\"duration\"] < 60)\n",
    "query_feb = (feb[\"duration\"] > 1) & (feb[\"duration\"] < 60)"
   ]
  },
  {
   "cell_type": "code",
   "execution_count": 155,
   "id": "195da2f4-5260-46d6-b033-5d699f7d7103",
   "metadata": {},
   "outputs": [],
   "source": [
    "jan = jan[query_jan]\n",
    "feb = feb[query_feb]"
   ]
  },
  {
   "cell_type": "code",
   "execution_count": 156,
   "id": "74579f29-a367-4d32-a4dd-b7ded3e32c59",
   "metadata": {},
   "outputs": [
    {
     "data": {
      "text/plain": [
       "(1106890, 8)"
      ]
     },
     "execution_count": 156,
     "metadata": {},
     "output_type": "execute_result"
    }
   ],
   "source": [
    "jan.shape"
   ]
  },
  {
   "cell_type": "code",
   "execution_count": 157,
   "id": "c8a2a3d3-ae33-4915-b05b-3dc86322b0d7",
   "metadata": {},
   "outputs": [
    {
     "name": "stdout",
     "output_type": "stream",
     "text": [
      "I drop 47222 records\n"
     ]
    }
   ],
   "source": [
    "print(f\"I drop {1154112-jan.shape[0]} records\")"
   ]
  },
  {
   "cell_type": "code",
   "execution_count": 158,
   "id": "e6ca4189-6f50-4ea6-b57a-e796b6598afd",
   "metadata": {},
   "outputs": [
    {
     "data": {
      "text/plain": [
       "Index(['dispatching_base_num', 'pickup_datetime', 'dropOff_datetime',\n",
       "       'PUlocationID', 'DOlocationID', 'SR_Flag', 'Affiliated_base_number',\n",
       "       'duration'],\n",
       "      dtype='object')"
      ]
     },
     "execution_count": 158,
     "metadata": {},
     "output_type": "execute_result"
    }
   ],
   "source": [
    "jan.columns"
   ]
  },
  {
   "cell_type": "code",
   "execution_count": 159,
   "id": "149faa87-7134-4c4a-95c2-284443d7913f",
   "metadata": {},
   "outputs": [
    {
     "name": "stdout",
     "output_type": "stream",
     "text": [
      "83.63% of missing values\n"
     ]
    }
   ],
   "source": [
    "print(f'{(jan[\"PUlocationID\"].isna().sum() / jan.shape[0])*100:.2f}% of missing values')"
   ]
  },
  {
   "cell_type": "code",
   "execution_count": 160,
   "id": "9e8defc0-275a-4f70-bab5-67860c53c6e6",
   "metadata": {},
   "outputs": [],
   "source": [
    "jan[\"PUlocationID\"] = jan[\"PUlocationID\"].fillna(\"-1\")\n",
    "jan[\"DOlocationID\"] = jan[\"DOlocationID\"].fillna(\"-1\")\n",
    "feb[\"PUlocationID\"] = feb[\"PUlocationID\"].fillna(\"-1\")\n",
    "feb[\"DOlocationID\"] = feb[\"DOlocationID\"].fillna(\"-1\")"
   ]
  },
  {
   "cell_type": "code",
   "execution_count": 161,
   "id": "1f7e58ed-41b1-426d-a1c1-b2be1357f40b",
   "metadata": {},
   "outputs": [
    {
     "name": "stdout",
     "output_type": "stream",
     "text": [
      "83.63% of missing values\n"
     ]
    }
   ],
   "source": [
    "print(f'{(jan[jan[\"PUlocationID\"] == \"-1\"][\"PUlocationID\"].count() / jan.shape[0])*100:.2f}% of missing values')"
   ]
  },
  {
   "cell_type": "markdown",
   "id": "e23f4d96-fd92-4c86-b7d1-ffe1e858f66a",
   "metadata": {},
   "source": [
    "# QUESTION 4 - OHE"
   ]
  },
  {
   "cell_type": "code",
   "execution_count": 162,
   "id": "300b489f-55b2-430f-92e4-07aea29f612e",
   "metadata": {},
   "outputs": [],
   "source": [
    "from sklearn.feature_extraction import DictVectorizer\n",
    "from sklearn.linear_model import LinearRegression\n",
    "from sklearn.metrics import mean_squared_error"
   ]
  },
  {
   "cell_type": "code",
   "execution_count": 163,
   "id": "ea847af2-47ac-4e37-8c0d-be9e52339229",
   "metadata": {},
   "outputs": [],
   "source": [
    "categorical = [\"PUlocationID\", \"DOlocationID\"]"
   ]
  },
  {
   "cell_type": "code",
   "execution_count": 164,
   "id": "dff15aaa-2683-4ef0-93de-1bcc67347200",
   "metadata": {},
   "outputs": [],
   "source": [
    "jan[categorical] = jan[categorical].astype(\"str\")"
   ]
  },
  {
   "cell_type": "code",
   "execution_count": 165,
   "id": "991e4681-36e7-4eeb-b0ff-cb95739f5dab",
   "metadata": {},
   "outputs": [
    {
     "data": {
      "text/plain": [
       "dispatching_base_num              object\n",
       "pickup_datetime           datetime64[ns]\n",
       "dropOff_datetime          datetime64[ns]\n",
       "PUlocationID                      object\n",
       "DOlocationID                      object\n",
       "SR_Flag                          float64\n",
       "Affiliated_base_number            object\n",
       "duration                         float64\n",
       "dtype: object"
      ]
     },
     "execution_count": 165,
     "metadata": {},
     "output_type": "execute_result"
    }
   ],
   "source": [
    "jan.dtypes"
   ]
  },
  {
   "cell_type": "code",
   "execution_count": 166,
   "id": "abfdba0b-5713-457f-a6f8-fa9626397c2b",
   "metadata": {},
   "outputs": [],
   "source": [
    "train_dicts = jan[categorical].to_dict(orient=\"records\")"
   ]
  },
  {
   "cell_type": "code",
   "execution_count": 167,
   "id": "4f68e960-3fec-4fbf-81f5-95c993450a2b",
   "metadata": {},
   "outputs": [],
   "source": [
    "dv = DictVectorizer()"
   ]
  },
  {
   "cell_type": "code",
   "execution_count": 174,
   "id": "9e460a31-7ecd-4325-83f5-29a3058419e6",
   "metadata": {},
   "outputs": [],
   "source": [
    "# fit_transform to train data\n",
    "X_train = dv.fit_transform(train_dicts)"
   ]
  },
  {
   "cell_type": "code",
   "execution_count": 175,
   "id": "942cdb38-238b-4473-8313-dd323155bf2c",
   "metadata": {},
   "outputs": [
    {
     "name": "stdout",
     "output_type": "stream",
     "text": [
      "There are 525 feature matrix\n"
     ]
    }
   ],
   "source": [
    "print(f\"There are {len(dv.get_feature_names())} feature matrix\")"
   ]
  },
  {
   "cell_type": "markdown",
   "id": "b420510f-ea29-4013-84b4-4b836fa57acd",
   "metadata": {},
   "source": [
    "# QUESTION 5"
   ]
  },
  {
   "cell_type": "code",
   "execution_count": 176,
   "id": "42b07118-ca39-4710-b2ce-a2cc5e1efbc7",
   "metadata": {},
   "outputs": [],
   "source": [
    "y_train = jan[\"duration\"]"
   ]
  },
  {
   "cell_type": "code",
   "execution_count": 177,
   "id": "06882ac3-981f-41d4-b71f-c93b08a55d52",
   "metadata": {},
   "outputs": [
    {
     "data": {
      "text/plain": [
       "10.387902642650943"
      ]
     },
     "execution_count": 177,
     "metadata": {},
     "output_type": "execute_result"
    }
   ],
   "source": [
    "model = LinearRegression()\n",
    "model.fit(X_train, y_train)\n",
    "\n",
    "y_pred = model.predict(X_train)\n",
    "\n",
    "mean_squared_error(y_train, y_pred, squared=False)"
   ]
  },
  {
   "cell_type": "markdown",
   "id": "8aec500f-7111-4751-913e-c64e02ea4354",
   "metadata": {},
   "source": [
    "# QUESTION 6"
   ]
  },
  {
   "cell_type": "code",
   "execution_count": 178,
   "id": "d7d72e33-26f9-4476-8ab9-c522d7e8732f",
   "metadata": {},
   "outputs": [
    {
     "data": {
      "text/plain": [
       "10.897037731359287"
      ]
     },
     "execution_count": 178,
     "metadata": {},
     "output_type": "execute_result"
    }
   ],
   "source": [
    "feb[categorical] = feb[categorical].astype(\"str\")\n",
    "val_dicts = feb[categorical].to_dict(orient='records')\n",
    "# transform to validate data\n",
    "X_val = dv.transform(val_dicts)\n",
    "\n",
    "target = 'duration'\n",
    "y_val = feb[target].values\n",
    "\n",
    "model = LinearRegression()\n",
    "model.fit(X_train, y_train)\n",
    "\n",
    "y_pred = model.predict(X_val)\n",
    "\n",
    "mean_squared_error(y_val, y_pred, squared=False)"
   ]
  },
  {
   "cell_type": "code",
   "execution_count": null,
   "id": "b28420b5-ea05-47ca-bdec-9d130dcff834",
   "metadata": {},
   "outputs": [],
   "source": []
  }
 ],
 "metadata": {
  "kernelspec": {
   "display_name": "Python 3 (ipykernel)",
   "language": "python",
   "name": "python3"
  },
  "language_info": {
   "codemirror_mode": {
    "name": "ipython",
    "version": 3
   },
   "file_extension": ".py",
   "mimetype": "text/x-python",
   "name": "python",
   "nbconvert_exporter": "python",
   "pygments_lexer": "ipython3",
   "version": "3.9.7"
  }
 },
 "nbformat": 4,
 "nbformat_minor": 5
}
